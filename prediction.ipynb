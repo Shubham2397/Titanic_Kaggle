{
 "cells": [
  {
   "cell_type": "code",
   "execution_count": 154,
   "metadata": {},
   "outputs": [],
   "source": [
    "import pandas as pd\n",
    "import numpy as np\n",
    "import matplotlib as plot\n",
    "import seaborn as sns\n",
    "from sklearn.preprocessing import OneHotEncoder"
   ]
  },
  {
   "cell_type": "code",
   "execution_count": 155,
   "metadata": {},
   "outputs": [],
   "source": [
    "train = pd.read_csv('train.csv')\n",
    "enc = OneHotEncoder(handle_unknown='ignore')"
   ]
  },
  {
   "cell_type": "code",
   "execution_count": 156,
   "metadata": {},
   "outputs": [
    {
     "name": "stdout",
     "output_type": "stream",
     "text": [
      "before shape (8693, 14)\n",
      "after shape (6606, 14)\n"
     ]
    }
   ],
   "source": [
    "#testing the data loss by removing NaN values\n",
    "print(f\"before shape {train.shape}\")\n",
    "train = train.dropna()\n",
    "train = train.reset_index()\n",
    "train = train.drop(['index'], axis=1)\n",
    "print(f\"after shape {train.shape}\")\n",
    "\n"
   ]
  },
  {
   "cell_type": "code",
   "execution_count": 157,
   "metadata": {},
   "outputs": [
    {
     "name": "stderr",
     "output_type": "stream",
     "text": [
      "c:\\Users\\Proteus\\anaconda3\\envs\\DeepL\\lib\\site-packages\\sklearn\\utils\\deprecation.py:87: FutureWarning: Function get_feature_names is deprecated; get_feature_names is deprecated in 1.0 and will be removed in 1.2. Please use get_feature_names_out instead.\n",
      "  warnings.warn(msg, category=FutureWarning)\n"
     ]
    }
   ],
   "source": [
    "#testing the one Hot encoder\n",
    "enc_df = pd.DataFrame(enc.fit_transform(train[['Destination']]).toarray())\n",
    "enc_df.columns = enc.get_feature_names()\n",
    "train = train.join(enc_df)\n",
    "\n"
   ]
  },
  {
   "cell_type": "code",
   "execution_count": 158,
   "metadata": {},
   "outputs": [
    {
     "data": {
      "text/plain": [
       "(6606, 17)"
      ]
     },
     "execution_count": 158,
     "metadata": {},
     "output_type": "execute_result"
    }
   ],
   "source": [
    "train.shape"
   ]
  },
  {
   "cell_type": "code",
   "execution_count": 159,
   "metadata": {},
   "outputs": [
    {
     "name": "stderr",
     "output_type": "stream",
     "text": [
      "c:\\Users\\Proteus\\anaconda3\\envs\\DeepL\\lib\\site-packages\\ipykernel_launcher.py:3: FutureWarning: Columnar iteration over characters will be deprecated in future releases.\n",
      "  This is separate from the ipykernel package so we can avoid doing imports until\n",
      "c:\\Users\\Proteus\\anaconda3\\envs\\DeepL\\lib\\site-packages\\sklearn\\utils\\deprecation.py:87: FutureWarning: Function get_feature_names is deprecated; get_feature_names is deprecated in 1.0 and will be removed in 1.2. Please use get_feature_names_out instead.\n",
      "  warnings.warn(msg, category=FutureWarning)\n"
     ]
    }
   ],
   "source": [
    "\n",
    "train[['Transported','CryoSleep','VIP']]= train[['Transported','CryoSleep','VIP']].astype(int)\n",
    "\n",
    "train['Deck'],train['RoomNo'], train['Side']= train['Cabin'].str.split('/').str\n",
    "\n",
    "enc_df = pd.DataFrame(enc.fit_transform(train[['Deck','Side','HomePlanet']]).toarray())\n",
    "\n",
    "enc_df.columns = enc.get_feature_names()\n",
    "train = train.join(enc_df)\n",
    "\n",
    "train['Group'] = train['PassengerId'].str.split('_').str[0]\n",
    "train['Group'] = train['Group'].astype(int)\n",
    "\n",
    "train = train.drop(['Cabin','Destination','Deck','Side','HomePlanet','RoomNo'], axis = 1)\n",
    "\n",
    "train.insert(0,'Name',train.pop('Name'))\n",
    "train.insert(0,'Transported',train.pop('Transported'))\n",
    "\n",
    "\n"
   ]
  },
  {
   "cell_type": "code",
   "execution_count": 160,
   "metadata": {},
   "outputs": [
    {
     "name": "stderr",
     "output_type": "stream",
     "text": [
      "c:\\Users\\Proteus\\anaconda3\\envs\\DeepL\\lib\\site-packages\\sklearn\\linear_model\\_logistic.py:818: ConvergenceWarning: lbfgs failed to converge (status=1):\n",
      "STOP: TOTAL NO. of ITERATIONS REACHED LIMIT.\n",
      "\n",
      "Increase the number of iterations (max_iter) or scale the data as shown in:\n",
      "    https://scikit-learn.org/stable/modules/preprocessing.html\n",
      "Please also refer to the documentation for alternative solver options:\n",
      "    https://scikit-learn.org/stable/modules/linear_model.html#logistic-regression\n",
      "  extra_warning_msg=_LOGISTIC_SOLVER_CONVERGENCE_MSG,\n"
     ]
    },
    {
     "data": {
      "text/plain": [
       "0.7977596124735089"
      ]
     },
     "execution_count": 160,
     "metadata": {},
     "output_type": "execute_result"
    }
   ],
   "source": [
    "# target and features from the dataset\n",
    "train_data = train.values\n",
    "X = train_data[:,3:]\n",
    "y = train_data[:,0]\n",
    "y = y.astype(\"int\")\n",
    "#Classificaiton of passengers using Logistic Regression \n",
    "from sklearn.linear_model import LogisticRegression\n",
    "\n",
    "clf = LogisticRegression(random_state=0).fit(X, y)\n",
    "clf.score(X,y)\n"
   ]
  },
  {
   "cell_type": "code",
   "execution_count": 161,
   "metadata": {},
   "outputs": [
    {
     "name": "stderr",
     "output_type": "stream",
     "text": [
      "c:\\Users\\Proteus\\anaconda3\\envs\\DeepL\\lib\\site-packages\\sklearn\\utils\\deprecation.py:87: FutureWarning: Function get_feature_names is deprecated; get_feature_names is deprecated in 1.0 and will be removed in 1.2. Please use get_feature_names_out instead.\n",
      "  warnings.warn(msg, category=FutureWarning)\n"
     ]
    }
   ],
   "source": [
    "#Load data and remove all NaN values\n",
    "test = pd.read_csv('test.csv')\n",
    "test = test.dropna()\n",
    "enc = OneHotEncoder(handle_unknown='ignore')\n",
    "\n",
    "enc_df = pd.DataFrame(enc.fit_transform(test[['Destination']]).toarray())\n",
    "# merge with main df bridge_df on key values\n",
    "enc_df.columns = enc.get_feature_names()\n",
    "test = test.join(enc_df)\n"
   ]
  },
  {
   "cell_type": "code",
   "execution_count": 162,
   "metadata": {},
   "outputs": [
    {
     "name": "stderr",
     "output_type": "stream",
     "text": [
      "c:\\Users\\Proteus\\anaconda3\\envs\\DeepL\\lib\\site-packages\\ipykernel_launcher.py:4: FutureWarning: Columnar iteration over characters will be deprecated in future releases.\n",
      "  after removing the cwd from sys.path.\n",
      "c:\\Users\\Proteus\\anaconda3\\envs\\DeepL\\lib\\site-packages\\sklearn\\utils\\deprecation.py:87: FutureWarning: Function get_feature_names is deprecated; get_feature_names is deprecated in 1.0 and will be removed in 1.2. Please use get_feature_names_out instead.\n",
      "  warnings.warn(msg, category=FutureWarning)\n"
     ]
    }
   ],
   "source": [
    "#convert non int values into int values using one-Hot Encoding\n",
    "test[['CryoSleep','VIP']]= test[['CryoSleep','VIP']].astype(int)\n",
    "\n",
    "test['Deck'],test['RoomNo'], test['Side']= test['Cabin'].str.split('/').str\n",
    "\n",
    "enc_df = pd.DataFrame(enc.fit_transform(test[['Deck','Side','HomePlanet']]).toarray())\n",
    "# merge with main df bridge_df on key values\n",
    "enc_df.columns = enc.get_feature_names()\n",
    "test = test.join(enc_df)\n",
    "\n",
    "test['Group'] = test['PassengerId'].str.split('_').str[0]\n",
    "test['Group'] = test['Group'].astype(int)\n",
    "\n",
    "test = test.drop(['Cabin','Destination','Deck','Side','HomePlanet','RoomNo'], axis = 1)\n",
    "\n",
    "test.insert(0,'Name',test.pop('Name'))\n"
   ]
  },
  {
   "cell_type": "code",
   "execution_count": 163,
   "metadata": {},
   "outputs": [],
   "source": [
    "#remove all rows with NaN values\n",
    "mod_test = test.dropna()\n"
   ]
  },
  {
   "cell_type": "code",
   "execution_count": 164,
   "metadata": {},
   "outputs": [],
   "source": [
    "\n",
    "test_data = mod_test.values\n",
    "X_test = test_data[:,2:]\n",
    "# calculate prediction based on trained classifier\n",
    "\n",
    "pred = clf.predict(X_test)\n",
    "#convert binary output into boolean and concatenate the prediction with the label\n",
    "pred = pred.astype(bool)\n",
    "label = np.asarray(mod_test.PassengerId)\n",
    "result = np.dstack((label, pred))\n",
    "\n",
    "\n"
   ]
  }
 ],
 "metadata": {
  "interpreter": {
   "hash": "b109784d74427be1de534c011214c3f23a6c9bda8dde04b5090a3fa0432ebd6e"
  },
  "kernelspec": {
   "display_name": "Python 3.7.11 ('DeepL')",
   "language": "python",
   "name": "python3"
  },
  "language_info": {
   "codemirror_mode": {
    "name": "ipython",
    "version": 3
   },
   "file_extension": ".py",
   "mimetype": "text/x-python",
   "name": "python",
   "nbconvert_exporter": "python",
   "pygments_lexer": "ipython3",
   "version": "3.7.11"
  },
  "orig_nbformat": 4
 },
 "nbformat": 4,
 "nbformat_minor": 2
}
